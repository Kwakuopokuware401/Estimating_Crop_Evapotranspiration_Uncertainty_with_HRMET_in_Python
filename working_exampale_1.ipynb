{
 "cells": [
  {
   "cell_type": "code",
   "execution_count": null,
   "id": "23236470",
   "metadata": {},
   "outputs": [],
   "source": [
    "import numpy as np \n",
    "import matplotlib.pyplot as plt\n",
    "\n",
    "# Define a simple HRMET model function \n",
    "# Taking longitude, latitude, air temp, and canopy temp as inputs\n",
    "# Returns ET rate in mm/hr\n",
    "def HRMET(lon, lat, tair, tcanopy):\n",
    "\n",
    "  # Model calculates ET as function of temp difference \n",
    "  return 0.5 + 0.1 * (tair - tcanopy)\n",
    "\n",
    "# Load input data from a saved NumPy array\n",
    "data = np.load('moscow_idaho_data.npz') \n",
    "\n",
    "# Extract input arrays from the data file\n",
    "lons = data['lons']  \n",
    "lats = data['lats']\n",
    "tair = data['tair']\n",
    "t = data['t']\n",
    "\n",
    "# Initialize output ET array  \n",
    "et = np.full_like(lons, np.nan)\n",
    "\n",
    "# Loop through each lat/lon and calculate ET \n",
    "for i in range(len(lats)):\n",
    "  for j in range(len(lons)):\n",
    "    \n",
    "    # Pass scalar values to HRMET model\n",
    "    et[i,j] = HRMET(lons[i,j], lats[i,j], \n",
    "                    tair[i,j], t[i,j])\n",
    "                    \n",
    "# Visualize the results\n",
    "fig, axs = plt.subplots(1, 3, figsize=(12,4))\n",
    "\n",
    "# Show air temp map\n",
    "axs[0].imshow(tair, cmap='jet')  \n",
    "axs[0].set_title('Air Temp [C]')\n",
    "\n",
    "# Show canopy temp map \n",
    "axs[1].imshow(t, cmap='jet')\n",
    "axs[1].set_title('Canopy Temp [C]')\n",
    "\n",
    "# Show resulting ET rate map\n",
    "axs[2].imshow(et, cmap='jet', vmin=0, vmax=1) \n",
    "axs[2].set_title('ET Rate [mm/hr]')\n",
    "\n",
    "# Layout and display plots\n",
    "plt.tight_layout()\n",
    "plt.show()\n"
   ]
  }
 ],
 "metadata": {
  "kernelspec": {
   "display_name": "Python 3 (ipykernel)",
   "language": "python",
   "name": "python3"
  },
  "language_info": {
   "codemirror_mode": {
    "name": "ipython",
    "version": 3
   },
   "file_extension": ".py",
   "mimetype": "text/x-python",
   "name": "python",
   "nbconvert_exporter": "python",
   "pygments_lexer": "ipython3",
   "version": "3.10.9"
  }
 },
 "nbformat": 4,
 "nbformat_minor": 5
}
